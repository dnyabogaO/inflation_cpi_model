{
 "cells": [
  {
   "cell_type": "code",
   "execution_count": 145,
   "id": "52e44b7d",
   "metadata": {},
   "outputs": [
    {
     "data": {
      "text/plain": [
       "(1059, 14)"
      ]
     },
     "execution_count": 145,
     "metadata": {},
     "output_type": "execute_result"
    }
   ],
   "source": [
    "import tensorflow as tf\n",
    "from tensorflow import keras\n",
    "\n",
    "import numpy as np\n",
    "import pandas as pd\n",
    "import matplotlib.pyplot as plt\n",
    "%matplotlib inline\n",
    "\n",
    "#supress errors\n",
    "import warnings\n",
    "warnings.filterwarnings('ignore')\n",
    "\n",
    "df= pd.read_csv(\"C:/Users/Dickson/Downloads/Data Science tutorials/Data science project/my project/african_crises.csv\")\n",
    "df.head()\n",
    "df.shape\n",
    "\n"
   ]
  },
  {
   "cell_type": "code",
   "execution_count": 146,
   "id": "b5d64c07",
   "metadata": {},
   "outputs": [
    {
     "data": {
      "text/plain": [
       "(1059, 12)"
      ]
     },
     "execution_count": 146,
     "metadata": {},
     "output_type": "execute_result"
    }
   ],
   "source": [
    "df1 = df.drop(['case','cc3'], axis = 'columns')\n",
    "df1.shape"
   ]
  },
  {
   "cell_type": "code",
   "execution_count": 147,
   "id": "29f97bd7",
   "metadata": {},
   "outputs": [
    {
     "data": {
      "text/plain": [
       "(1059, 13)"
      ]
     },
     "execution_count": 147,
     "metadata": {},
     "output_type": "execute_result"
    }
   ],
   "source": [
    "df2 = df1.copy()\n",
    "df2['conv_inflation_cpi'] = df2['exch_usd']*df2['inflation_annual_cpi']\n",
    "df2.shape"
   ]
  },
  {
   "cell_type": "code",
   "execution_count": 148,
   "id": "221482de",
   "metadata": {
    "scrolled": true
   },
   "outputs": [
    {
     "data": {
      "text/plain": [
       "currency_crises\n",
       "0    923\n",
       "1    132\n",
       "2      4\n",
       "Name: currency_crises, dtype: int64"
      ]
     },
     "execution_count": 148,
     "metadata": {},
     "output_type": "execute_result"
    }
   ],
   "source": [
    "df2.groupby('currency_crises')['currency_crises'].agg('count').sort_values(ascending = False)"
   ]
  },
  {
   "cell_type": "code",
   "execution_count": 149,
   "id": "642b586c",
   "metadata": {},
   "outputs": [],
   "source": [
    "#dropping unconsistent values in currency_crises column\n",
    "df2.drop(df2[df2['currency_crises'] == 2].index, inplace = True)\n"
   ]
  },
  {
   "cell_type": "code",
   "execution_count": 150,
   "id": "659b6b27",
   "metadata": {
    "scrolled": true
   },
   "outputs": [
    {
     "data": {
      "text/plain": [
       "currency_crises\n",
       "0    923\n",
       "1    132\n",
       "Name: currency_crises, dtype: int64"
      ]
     },
     "execution_count": 150,
     "metadata": {},
     "output_type": "execute_result"
    }
   ],
   "source": [
    "df2.groupby('currency_crises')['currency_crises'].agg('count').sort_values(ascending = False)"
   ]
  },
  {
   "cell_type": "code",
   "execution_count": 151,
   "id": "fbc408ae",
   "metadata": {
    "scrolled": true
   },
   "outputs": [
    {
     "data": {
      "text/plain": [
       "array([1, 0], dtype=int64)"
      ]
     },
     "execution_count": 151,
     "metadata": {},
     "output_type": "execute_result"
    }
   ],
   "source": [
    "#Convert banking_crisis to numerics.\n",
    "df2['banking_crisis'].replace({'crisis':1,'no_crisis':0},inplace=True)\n",
    "df2.banking_crisis.unique()"
   ]
  },
  {
   "cell_type": "code",
   "execution_count": 152,
   "id": "b625a299",
   "metadata": {
    "scrolled": true
   },
   "outputs": [
    {
     "data": {
      "text/html": [
       "<div>\n",
       "<style scoped>\n",
       "    .dataframe tbody tr th:only-of-type {\n",
       "        vertical-align: middle;\n",
       "    }\n",
       "\n",
       "    .dataframe tbody tr th {\n",
       "        vertical-align: top;\n",
       "    }\n",
       "\n",
       "    .dataframe thead th {\n",
       "        text-align: right;\n",
       "    }\n",
       "</style>\n",
       "<table border=\"1\" class=\"dataframe\">\n",
       "  <thead>\n",
       "    <tr style=\"text-align: right;\">\n",
       "      <th></th>\n",
       "      <th>country</th>\n",
       "      <th>systemic_crisis</th>\n",
       "      <th>domestic_debt_in_default</th>\n",
       "      <th>sovereign_external_debt_default</th>\n",
       "      <th>gdp_weighted_default</th>\n",
       "      <th>independence</th>\n",
       "      <th>currency_crises</th>\n",
       "      <th>inflation_crises</th>\n",
       "      <th>banking_crisis</th>\n",
       "      <th>conv_inflation_cpi</th>\n",
       "    </tr>\n",
       "  </thead>\n",
       "  <tbody>\n",
       "    <tr>\n",
       "      <th>0</th>\n",
       "      <td>Algeria</td>\n",
       "      <td>1</td>\n",
       "      <td>0</td>\n",
       "      <td>0</td>\n",
       "      <td>0.0</td>\n",
       "      <td>0</td>\n",
       "      <td>0</td>\n",
       "      <td>0</td>\n",
       "      <td>1</td>\n",
       "      <td>0.179864</td>\n",
       "    </tr>\n",
       "    <tr>\n",
       "      <th>1</th>\n",
       "      <td>Algeria</td>\n",
       "      <td>0</td>\n",
       "      <td>0</td>\n",
       "      <td>0</td>\n",
       "      <td>0.0</td>\n",
       "      <td>0</td>\n",
       "      <td>0</td>\n",
       "      <td>0</td>\n",
       "      <td>0</td>\n",
       "      <td>0.747046</td>\n",
       "    </tr>\n",
       "  </tbody>\n",
       "</table>\n",
       "</div>"
      ],
      "text/plain": [
       "   country  systemic_crisis  domestic_debt_in_default  \\\n",
       "0  Algeria                1                         0   \n",
       "1  Algeria                0                         0   \n",
       "\n",
       "   sovereign_external_debt_default  gdp_weighted_default  independence  \\\n",
       "0                                0                   0.0             0   \n",
       "1                                0                   0.0             0   \n",
       "\n",
       "   currency_crises  inflation_crises  banking_crisis  conv_inflation_cpi  \n",
       "0                0                 0               1            0.179864  \n",
       "1                0                 0               0            0.747046  "
      ]
     },
     "execution_count": 152,
     "metadata": {},
     "output_type": "execute_result"
    }
   ],
   "source": [
    "df3 = df2.drop(['year','exch_usd','inflation_annual_cpi'], axis = 'columns')\n",
    "df3.head(2)"
   ]
  },
  {
   "cell_type": "code",
   "execution_count": 153,
   "id": "0dc9765a",
   "metadata": {},
   "outputs": [
    {
     "data": {
      "text/plain": [
       "(909, 10)"
      ]
     },
     "execution_count": 153,
     "metadata": {},
     "output_type": "execute_result"
    }
   ],
   "source": [
    "def remove_icpi_outliers(df):\n",
    "    df_out = pd.DataFrame()\n",
    "    for key, subdf in df.groupby('country'):\n",
    "        m=np.mean(subdf.conv_inflation_cpi)\n",
    "        sd=np.std(subdf.conv_inflation_cpi)\n",
    "        reduced_df = subdf[(subdf.conv_inflation_cpi>(m-sd)) & (subdf.conv_inflation_cpi<=(m+sd))]\n",
    "        df_out = pd.concat([df_out,reduced_df], ignore_index=True)\n",
    "    return df_out\n",
    "\n",
    "df4 = remove_icpi_outliers(df3)\n",
    "df4.shape"
   ]
  },
  {
   "cell_type": "code",
   "execution_count": 154,
   "id": "a10c2ea9",
   "metadata": {
    "scrolled": true
   },
   "outputs": [
    {
     "data": {
      "text/plain": [
       "Text(0, 0.5, 'Count')"
      ]
     },
     "execution_count": 154,
     "metadata": {},
     "output_type": "execute_result"
    },
    {
     "data": {
      "image/png": "[encoded data removed]",
      "text/plain": [
       "<Figure size 1440x720 with 1 Axes>"
      ]
     },
     "metadata": {
      "needs_background": "light"
     },
     "output_type": "display_data"
    }
   ],
   "source": [
    "import matplotlib\n",
    "matplotlib.rcParams['figure.figsize']=(20,10)\n",
    "plt.hist(df4.conv_inflation_cpi,rwidth=0.8)\n",
    "plt.xlabel('conv_inflation_cpi')\n",
    "plt.ylabel('Count')"
   ]
  },
  {
   "cell_type": "code",
   "execution_count": 155,
   "id": "edada735",
   "metadata": {},
   "outputs": [
    {
     "data": {
      "text/plain": [
       "Text(0, 0.5, 'Count')"
      ]
     },
     "execution_count": 155,
     "metadata": {},
     "output_type": "execute_result"
    },
    {
     "data": {
      "image/png": "[encoded data removed]",
      "text/plain": [
       "<Figure size 1440x720 with 1 Axes>"
      ]
     },
     "metadata": {
      "needs_background": "light"
     },
     "output_type": "display_data"
    }
   ],
   "source": [
    "import matplotlib\n",
    "matplotlib.rcParams['figure.figsize']=(20,10)\n",
    "plt.hist(df4.gdp_weighted_default,rwidth=0.8)\n",
    "plt.xlabel('gdp_weighted_default')\n",
    "plt.ylabel('Count')"
   ]
  },
  {
   "cell_type": "code",
   "execution_count": 156,
   "id": "a6b7f462",
   "metadata": {
    "scrolled": true
   },
   "outputs": [
    {
     "data": {
      "text/html": [
       "<div>\n",
       "<style scoped>\n",
       "    .dataframe tbody tr th:only-of-type {\n",
       "        vertical-align: middle;\n",
       "    }\n",
       "\n",
       "    .dataframe tbody tr th {\n",
       "        vertical-align: top;\n",
       "    }\n",
       "\n",
       "    .dataframe thead th {\n",
       "        text-align: right;\n",
       "    }\n",
       "</style>\n",
       "<table border=\"1\" class=\"dataframe\">\n",
       "  <thead>\n",
       "    <tr style=\"text-align: right;\">\n",
       "      <th></th>\n",
       "      <th>Algeria</th>\n",
       "      <th>Angola</th>\n",
       "      <th>Central African Republic</th>\n",
       "      <th>Egypt</th>\n",
       "      <th>Ivory Coast</th>\n",
       "      <th>Kenya</th>\n",
       "      <th>Mauritius</th>\n",
       "      <th>Morocco</th>\n",
       "      <th>Nigeria</th>\n",
       "      <th>South Africa</th>\n",
       "      <th>Tunisia</th>\n",
       "      <th>Zambia</th>\n",
       "      <th>Zimbabwe</th>\n",
       "    </tr>\n",
       "  </thead>\n",
       "  <tbody>\n",
       "    <tr>\n",
       "      <th>0</th>\n",
       "      <td>1</td>\n",
       "      <td>0</td>\n",
       "      <td>0</td>\n",
       "      <td>0</td>\n",
       "      <td>0</td>\n",
       "      <td>0</td>\n",
       "      <td>0</td>\n",
       "      <td>0</td>\n",
       "      <td>0</td>\n",
       "      <td>0</td>\n",
       "      <td>0</td>\n",
       "      <td>0</td>\n",
       "      <td>0</td>\n",
       "    </tr>\n",
       "    <tr>\n",
       "      <th>1</th>\n",
       "      <td>1</td>\n",
       "      <td>0</td>\n",
       "      <td>0</td>\n",
       "      <td>0</td>\n",
       "      <td>0</td>\n",
       "      <td>0</td>\n",
       "      <td>0</td>\n",
       "      <td>0</td>\n",
       "      <td>0</td>\n",
       "      <td>0</td>\n",
       "      <td>0</td>\n",
       "      <td>0</td>\n",
       "      <td>0</td>\n",
       "    </tr>\n",
       "    <tr>\n",
       "      <th>2</th>\n",
       "      <td>1</td>\n",
       "      <td>0</td>\n",
       "      <td>0</td>\n",
       "      <td>0</td>\n",
       "      <td>0</td>\n",
       "      <td>0</td>\n",
       "      <td>0</td>\n",
       "      <td>0</td>\n",
       "      <td>0</td>\n",
       "      <td>0</td>\n",
       "      <td>0</td>\n",
       "      <td>0</td>\n",
       "      <td>0</td>\n",
       "    </tr>\n",
       "  </tbody>\n",
       "</table>\n",
       "</div>"
      ],
      "text/plain": [
       "   Algeria  Angola  Central African Republic  Egypt  Ivory Coast  Kenya  \\\n",
       "0        1       0                         0      0            0      0   \n",
       "1        1       0                         0      0            0      0   \n",
       "2        1       0                         0      0            0      0   \n",
       "\n",
       "   Mauritius  Morocco  Nigeria  South Africa  Tunisia  Zambia  Zimbabwe  \n",
       "0          0        0        0             0        0       0         0  \n",
       "1          0        0        0             0        0       0         0  \n",
       "2          0        0        0             0        0       0         0  "
      ]
     },
     "execution_count": 156,
     "metadata": {},
     "output_type": "execute_result"
    }
   ],
   "source": [
    "dummies= pd.get_dummies(df4.country)\n",
    "dummies.head(3)"
   ]
  },
  {
   "cell_type": "code",
   "execution_count": 157,
   "id": "b0eae056",
   "metadata": {
    "scrolled": true
   },
   "outputs": [
    {
     "data": {
      "text/html": [
       "<div>\n",
       "<style scoped>\n",
       "    .dataframe tbody tr th:only-of-type {\n",
       "        vertical-align: middle;\n",
       "    }\n",
       "\n",
       "    .dataframe tbody tr th {\n",
       "        vertical-align: top;\n",
       "    }\n",
       "\n",
       "    .dataframe thead th {\n",
       "        text-align: right;\n",
       "    }\n",
       "</style>\n",
       "<table border=\"1\" class=\"dataframe\">\n",
       "  <thead>\n",
       "    <tr style=\"text-align: right;\">\n",
       "      <th></th>\n",
       "      <th>country</th>\n",
       "      <th>systemic_crisis</th>\n",
       "      <th>domestic_debt_in_default</th>\n",
       "      <th>sovereign_external_debt_default</th>\n",
       "      <th>gdp_weighted_default</th>\n",
       "      <th>independence</th>\n",
       "      <th>currency_crises</th>\n",
       "      <th>inflation_crises</th>\n",
       "      <th>banking_crisis</th>\n",
       "      <th>conv_inflation_cpi</th>\n",
       "      <th>...</th>\n",
       "      <th>Central African Republic</th>\n",
       "      <th>Egypt</th>\n",
       "      <th>Ivory Coast</th>\n",
       "      <th>Kenya</th>\n",
       "      <th>Mauritius</th>\n",
       "      <th>Morocco</th>\n",
       "      <th>Nigeria</th>\n",
       "      <th>South Africa</th>\n",
       "      <th>Tunisia</th>\n",
       "      <th>Zambia</th>\n",
       "    </tr>\n",
       "  </thead>\n",
       "  <tbody>\n",
       "    <tr>\n",
       "      <th>0</th>\n",
       "      <td>Algeria</td>\n",
       "      <td>1</td>\n",
       "      <td>0</td>\n",
       "      <td>0</td>\n",
       "      <td>0.0</td>\n",
       "      <td>0</td>\n",
       "      <td>0</td>\n",
       "      <td>0</td>\n",
       "      <td>1</td>\n",
       "      <td>0.179864</td>\n",
       "      <td>...</td>\n",
       "      <td>0</td>\n",
       "      <td>0</td>\n",
       "      <td>0</td>\n",
       "      <td>0</td>\n",
       "      <td>0</td>\n",
       "      <td>0</td>\n",
       "      <td>0</td>\n",
       "      <td>0</td>\n",
       "      <td>0</td>\n",
       "      <td>0</td>\n",
       "    </tr>\n",
       "    <tr>\n",
       "      <th>1</th>\n",
       "      <td>Algeria</td>\n",
       "      <td>0</td>\n",
       "      <td>0</td>\n",
       "      <td>0</td>\n",
       "      <td>0.0</td>\n",
       "      <td>0</td>\n",
       "      <td>0</td>\n",
       "      <td>0</td>\n",
       "      <td>0</td>\n",
       "      <td>0.747046</td>\n",
       "      <td>...</td>\n",
       "      <td>0</td>\n",
       "      <td>0</td>\n",
       "      <td>0</td>\n",
       "      <td>0</td>\n",
       "      <td>0</td>\n",
       "      <td>0</td>\n",
       "      <td>0</td>\n",
       "      <td>0</td>\n",
       "      <td>0</td>\n",
       "      <td>0</td>\n",
       "    </tr>\n",
       "    <tr>\n",
       "      <th>2</th>\n",
       "      <td>Algeria</td>\n",
       "      <td>0</td>\n",
       "      <td>0</td>\n",
       "      <td>0</td>\n",
       "      <td>0.0</td>\n",
       "      <td>0</td>\n",
       "      <td>0</td>\n",
       "      <td>0</td>\n",
       "      <td>0</td>\n",
       "      <td>-0.194386</td>\n",
       "      <td>...</td>\n",
       "      <td>0</td>\n",
       "      <td>0</td>\n",
       "      <td>0</td>\n",
       "      <td>0</td>\n",
       "      <td>0</td>\n",
       "      <td>0</td>\n",
       "      <td>0</td>\n",
       "      <td>0</td>\n",
       "      <td>0</td>\n",
       "      <td>0</td>\n",
       "    </tr>\n",
       "  </tbody>\n",
       "</table>\n",
       "<p>3 rows × 22 columns</p>\n",
       "</div>"
      ],
      "text/plain": [
       "   country  systemic_crisis  domestic_debt_in_default  \\\n",
       "0  Algeria                1                         0   \n",
       "1  Algeria                0                         0   \n",
       "2  Algeria                0                         0   \n",
       "\n",
       "   sovereign_external_debt_default  gdp_weighted_default  independence  \\\n",
       "0                                0                   0.0             0   \n",
       "1                                0                   0.0             0   \n",
       "2                                0                   0.0             0   \n",
       "\n",
       "   currency_crises  inflation_crises  banking_crisis  conv_inflation_cpi  ...  \\\n",
       "0                0                 0               1            0.179864  ...   \n",
       "1                0                 0               0            0.747046  ...   \n",
       "2                0                 0               0           -0.194386  ...   \n",
       "\n",
       "   Central African Republic  Egypt  Ivory Coast  Kenya  Mauritius  Morocco  \\\n",
       "0                         0      0            0      0          0        0   \n",
       "1                         0      0            0      0          0        0   \n",
       "2                         0      0            0      0          0        0   \n",
       "\n",
       "   Nigeria  South Africa  Tunisia  Zambia  \n",
       "0        0             0        0       0  \n",
       "1        0             0        0       0  \n",
       "2        0             0        0       0  \n",
       "\n",
       "[3 rows x 22 columns]"
      ]
     },
     "execution_count": 157,
     "metadata": {},
     "output_type": "execute_result"
    }
   ],
   "source": [
    "#we now join these dummies to our main dataframe and as normal rule for dummies, we drop one column in this case other column\n",
    "df5 = pd.concat([df4,dummies.drop('Zimbabwe',axis='columns')], axis='columns')\n",
    "df5.head(3)"
   ]
  },
  {
   "cell_type": "code",
   "execution_count": 158,
   "id": "0ba8f30d",
   "metadata": {
    "scrolled": false
   },
   "outputs": [
    {
     "data": {
      "text/html": [
       "<div>\n",
       "<style scoped>\n",
       "    .dataframe tbody tr th:only-of-type {\n",
       "        vertical-align: middle;\n",
       "    }\n",
       "\n",
       "    .dataframe tbody tr th {\n",
       "        vertical-align: top;\n",
       "    }\n",
       "\n",
       "    .dataframe thead th {\n",
       "        text-align: right;\n",
       "    }\n",
       "</style>\n",
       "<table border=\"1\" class=\"dataframe\">\n",
       "  <thead>\n",
       "    <tr style=\"text-align: right;\">\n",
       "      <th></th>\n",
       "      <th>systemic_crisis</th>\n",
       "      <th>domestic_debt_in_default</th>\n",
       "      <th>sovereign_external_debt_default</th>\n",
       "      <th>gdp_weighted_default</th>\n",
       "      <th>independence</th>\n",
       "      <th>currency_crises</th>\n",
       "      <th>inflation_crises</th>\n",
       "      <th>banking_crisis</th>\n",
       "      <th>conv_inflation_cpi</th>\n",
       "      <th>Algeria</th>\n",
       "      <th>...</th>\n",
       "      <th>Central African Republic</th>\n",
       "      <th>Egypt</th>\n",
       "      <th>Ivory Coast</th>\n",
       "      <th>Kenya</th>\n",
       "      <th>Mauritius</th>\n",
       "      <th>Morocco</th>\n",
       "      <th>Nigeria</th>\n",
       "      <th>South Africa</th>\n",
       "      <th>Tunisia</th>\n",
       "      <th>Zambia</th>\n",
       "    </tr>\n",
       "  </thead>\n",
       "  <tbody>\n",
       "    <tr>\n",
       "      <th>0</th>\n",
       "      <td>1</td>\n",
       "      <td>0</td>\n",
       "      <td>0</td>\n",
       "      <td>0.0</td>\n",
       "      <td>0</td>\n",
       "      <td>0</td>\n",
       "      <td>0</td>\n",
       "      <td>1</td>\n",
       "      <td>0.179864</td>\n",
       "      <td>1</td>\n",
       "      <td>...</td>\n",
       "      <td>0</td>\n",
       "      <td>0</td>\n",
       "      <td>0</td>\n",
       "      <td>0</td>\n",
       "      <td>0</td>\n",
       "      <td>0</td>\n",
       "      <td>0</td>\n",
       "      <td>0</td>\n",
       "      <td>0</td>\n",
       "      <td>0</td>\n",
       "    </tr>\n",
       "    <tr>\n",
       "      <th>1</th>\n",
       "      <td>0</td>\n",
       "      <td>0</td>\n",
       "      <td>0</td>\n",
       "      <td>0.0</td>\n",
       "      <td>0</td>\n",
       "      <td>0</td>\n",
       "      <td>0</td>\n",
       "      <td>0</td>\n",
       "      <td>0.747046</td>\n",
       "      <td>1</td>\n",
       "      <td>...</td>\n",
       "      <td>0</td>\n",
       "      <td>0</td>\n",
       "      <td>0</td>\n",
       "      <td>0</td>\n",
       "      <td>0</td>\n",
       "      <td>0</td>\n",
       "      <td>0</td>\n",
       "      <td>0</td>\n",
       "      <td>0</td>\n",
       "      <td>0</td>\n",
       "    </tr>\n",
       "  </tbody>\n",
       "</table>\n",
       "<p>2 rows × 21 columns</p>\n",
       "</div>"
      ],
      "text/plain": [
       "   systemic_crisis  domestic_debt_in_default  sovereign_external_debt_default  \\\n",
       "0                1                         0                                0   \n",
       "1                0                         0                                0   \n",
       "\n",
       "   gdp_weighted_default  independence  currency_crises  inflation_crises  \\\n",
       "0                   0.0             0                0                 0   \n",
       "1                   0.0             0                0                 0   \n",
       "\n",
       "   banking_crisis  conv_inflation_cpi  Algeria  ...  Central African Republic  \\\n",
       "0               1            0.179864        1  ...                         0   \n",
       "1               0            0.747046        1  ...                         0   \n",
       "\n",
       "   Egypt  Ivory Coast  Kenya  Mauritius  Morocco  Nigeria  South Africa  \\\n",
       "0      0            0      0          0        0        0             0   \n",
       "1      0            0      0          0        0        0             0   \n",
       "\n",
       "   Tunisia  Zambia  \n",
       "0        0       0  \n",
       "1        0       0  \n",
       "\n",
       "[2 rows x 21 columns]"
      ]
     },
     "execution_count": 158,
     "metadata": {},
     "output_type": "execute_result"
    }
   ],
   "source": [
    "#we can now drop country column since we have created dummies out of it\n",
    "df6 = df5.drop('country',axis='columns')\n",
    "df6.head(2)"
   ]
  },
  {
   "cell_type": "code",
   "execution_count": 159,
   "id": "ed132ed4",
   "metadata": {},
   "outputs": [
    {
     "data": {
      "text/plain": [
       "<matplotlib.legend.Legend at 0x1beaba0b2e0>"
      ]
     },
     "execution_count": 159,
     "metadata": {},
     "output_type": "execute_result"
    },
    {
     "data": {
      "image/png": "[encoded data removed]",
      "text/plain": [
       "<Figure size 1440x720 with 1 Axes>"
      ]
     },
     "metadata": {
      "needs_background": "light"
     },
     "output_type": "display_data"
    }
   ],
   "source": [
    "inflation_crises_no = df6[df6.inflation_crises==0].conv_inflation_cpi\n",
    "inflation_crises_yes = df6[df6.inflation_crises==1].conv_inflation_cpi\n",
    "\n",
    "plt.xlabel(\"inflation_cpi\")\n",
    "plt.ylabel(\"inflation rates\")\n",
    "plt.title(\"Inflation Crisis in countries\")\n",
    "\n",
    "plt.hist([inflation_crises_yes, inflation_crises_no], rwidth=0.95, color=['green','red'],label=['inflation_crises_yes=Yes','inflation_crises_yes=No'])\n",
    "plt.legend()"
   ]
  },
  {
   "cell_type": "code",
   "execution_count": 160,
   "id": "e93918ad",
   "metadata": {},
   "outputs": [
    {
     "name": "stdout",
     "output_type": "stream",
     "text": [
      "systemic_crisis : [1 0]\n",
      "domestic_debt_in_default : [0 1]\n",
      "sovereign_external_debt_default : [0 1]\n",
      "gdp_weighted_default : [0.    1.    0.325 0.9   0.15 ]\n",
      "independence : [0 1]\n",
      "currency_crises : [0 1]\n",
      "inflation_crises : [0 1]\n",
      "banking_crisis : [1 0]\n",
      "conv_inflation_cpi : [0.37934107 0.37942013 0.3792889  0.37939671 0.37928848 0.37916566\n",
      " 0.37930321 0.3795265  0.37930519 0.37919394 0.37934432 0.37940752\n",
      " 0.37922857 0.37930592 0.37920008 0.37992662 0.38083962 0.38034096\n",
      " 0.38225619 0.3825457  0.38221989 0.38419864 0.38233436 0.39082829\n",
      " 0.40292815 0.39080187 0.379316   0.38260491 0.38239718 0.37883297\n",
      " 0.37980385 0.38028205 0.38102072 0.38770262 0.38564101 0.38302149\n",
      " 0.38132523 0.38385786 0.38112355 0.38183214 0.38331174 0.38232246\n",
      " 0.38454334 0.38426285 0.38627254 0.38975042 0.38575599 0.38448361\n",
      " 0.38696364 0.38466797 0.38823155 0.38357592 0.38468529 0.38382158\n",
      " 0.38625606 0.38873337 0.38334594 0.38488695 0.38958508 0.39507134\n",
      " 0.42572618 0.42095756 0.40443593 0.38246654 0.42487356 0.39520674\n",
      " 0.42242252 0.41951822 0.39345137 0.40227739 0.41354011 0.42748696\n",
      " 0.42019188 0.42725489 0.41477242 0.41508416 0.379316   0.379316\n",
      " 0.379316   0.379316   0.379316   0.379316   0.379316   0.379316\n",
      " 0.379316   0.379316   0.379316   0.379316   0.379316   0.379316\n",
      " 0.379316   0.379316   0.379316   0.379316   0.379316   0.379316\n",
      " 0.379316   0.379316   0.379316   0.379316   0.379316   0.379316\n",
      " 0.379316   0.379316   0.379316   0.379316   0.379316   0.379316\n",
      " 0.379316   0.379316   0.379316   0.379316   0.379316   0.379316\n",
      " 0.379316   0.379316   0.379316   0.379316   0.379316   0.379316\n",
      " 0.379316   0.379316   0.379316   0.379316   0.379316   0.379316\n",
      " 0.37931602 0.37931725 0.37938342 0.49604829 0.38741636 0.38974553\n",
      " 0.63784794 0.52816987 0.5074066  0.50991903 0.55029224 0.56629953\n",
      " 0.55837915 0.51669151 0.49873884 0.48252802 0.57884514 0.81580451\n",
      " 0.5084198  0.75205678 0.60330842 0.64201201 0.50620983 0.72270238\n",
      " 0.69996905 0.47408249 0.44407696 0.54514555 0.39951292 0.52299582\n",
      " 0.56456284 0.67488134 0.88036324 0.74335695 0.74464786 0.71408306\n",
      " 0.63736512 0.7979143  0.96659249 1.         0.55339326 0.93034979\n",
      " 0.48777993 0.40533437 0.37205961 0.35026484 0.65108348 0.51261161\n",
      " 0.69394772 0.7780141  0.57966921 0.69444101 0.602916   0.84404256\n",
      " 0.43738868 0.98781057 0.60284995 0.48134032 0.46375921 0.7863728\n",
      " 0.81370187 0.37948719 0.37948743 0.37948709 0.37948736 0.37948739\n",
      " 0.3794872  0.37948712 0.37948738 0.37948734 0.37947881 0.37947862\n",
      " 0.37967383 0.3791998  0.37920144 0.37935896 0.37908527 0.37901543\n",
      " 0.37930408 0.3793019  0.37960735 0.379366   0.37897009 0.37943388\n",
      " 0.37925385 0.37930268 0.37913732 0.37941717 0.37923684 0.37914381\n",
      " 0.37897134 0.37953796 0.37960108 0.37937043 0.37893117 0.3791786\n",
      " 0.37916274 0.37958329 0.37939479 0.37970935 0.37914265 0.37952186\n",
      " 0.37931903 0.37930078 0.37910505 0.37924264 0.37974643 0.3795798\n",
      " 0.37935257 0.37956254 0.37934897 0.37898883 0.37935194 0.37948989\n",
      " 0.37963502 0.37928436 0.37885656 0.37986798 0.38032932 0.37982966\n",
      " 0.3797494  0.38011635 0.37838517 0.37896843 0.37897492 0.37952418\n",
      " 0.37947504 0.37899772 0.37908326 0.37944223 0.37922299 0.37912225\n",
      " 0.37911377 0.37886615 0.37905582 0.37997451 0.37947181 0.37911521\n",
      " 0.37928817 0.37964875 0.37926637 0.37966568 0.38013056 0.38068884\n",
      " 0.37990487 0.37969921 0.37938736 0.37921117 0.37934004 0.37972927\n",
      " 0.37968507 0.378818   0.37926973 0.37917586 0.3795084  0.37947492\n",
      " 0.37925043 0.37934997 0.37935151 0.37937359 0.37906123 0.3794409\n",
      " 0.3797902  0.3801112  0.37972167 0.37932325 0.37934362 0.37953883\n",
      " 0.37952016 0.37949436 0.37946291 0.37966389 0.37989635 0.37985593\n",
      " 0.37987734 0.37994949 0.37993074 0.38028222 0.3813162  0.38033074\n",
      " 0.38076981 0.38087538 0.38098056 0.38049739 0.38164794 0.38177332\n",
      " 0.38079761 0.38240229 0.38266656 0.38222832 0.38169658 0.38109342\n",
      " 0.38078135 0.38083743 0.38132944 0.38265662 0.69222337 0.33985894\n",
      " 0.42186028 0.8083425  0.70490898 0.8237495  0.65070383 0.73026173\n",
      " 0.74185148 0.7480712  0.66961815 0.47216724 0.6833194  0.64873792\n",
      " 0.67897708 0.42123384 0.35482766 0.43749264 0.54276172 0.46749359\n",
      " 0.57716047 0.79833331 0.38577084 0.38175072 0.38783219 0.39014596\n",
      " 0.38573863 0.3823347  0.38370699 0.3856576  0.38109446 0.38193517\n",
      " 0.3801689  0.38015835 0.38182513 0.38204462 0.37903153 0.38505313\n",
      " 0.38306146 0.37985105 0.37997497 0.37918548 0.38114058 0.38490622\n",
      " 0.38382143 0.3914948  0.39565799 0.39896444 0.39029876 0.39926705\n",
      " 0.3946391  0.38756897 0.39394394 0.39063555 0.4038301  0.40162821\n",
      " 0.42477736 0.4051874  0.40231178 0.40925762 0.39177044 0.40225001\n",
      " 0.41691451 0.45407308 0.39143278 0.44728067 0.48348965 0.43726725\n",
      " 0.43779856 0.48759868 0.44312267 0.40247761 0.44281221 0.4696699\n",
      " 0.45822641 0.43775057 0.41657537 0.42781711 0.44809431 0.46497617\n",
      " 0.39407219 0.3825716  0.38676434 0.3806004  0.38122245 0.38055511\n",
      " 0.38048141 0.38053296 0.38057143 0.38130225 0.38158501 0.38347014\n",
      " 0.38162192 0.38068935 0.38371025 0.39597374 0.39814869 0.39328133\n",
      " 0.38927269 0.38798562 0.38679594 0.40386291 0.39957686 0.39253184\n",
      " 0.3913323  0.3959133  0.38725558 0.38053619 0.38625765 0.40068639\n",
      " 0.38608509 0.39757878 0.39415289 0.39573122 0.40051567 0.40283422\n",
      " 0.40371096 0.39575524 0.40215527 0.39361024 0.39780503 0.40035093\n",
      " 0.38993881 0.39172316 0.40016955 0.39666228 0.39600253 0.38251145\n",
      " 0.38340617 0.38330876 0.38130271 0.38206919 0.38081308 0.38615868\n",
      " 0.3863593  0.38012772 0.38190975 0.38056401 0.38224326 0.3821696\n",
      " 0.38047474 0.38194103 0.38088146 0.38092123 0.38310338 0.38333367\n",
      " 0.38227969 0.38105348 0.38011597 0.38050659 0.3806584  0.38223362\n",
      " 0.38135577 0.38321143 0.3830644  0.38574631 0.38582776 0.38458155\n",
      " 0.38382459 0.3849996  0.3862913  0.38225051 0.3820272  0.38286844\n",
      " 0.3860716  0.38655569 0.38628844 0.38573759 0.3865451  0.38297966\n",
      " 0.38072553 0.38285716 0.38028614 0.38216233 0.38030373 0.38325425\n",
      " 0.38073442 0.38102614 0.38058333 0.38318816 0.38150494 0.3837081\n",
      " 0.38038092 0.38047385 0.38040036 0.38082889 0.38145282 0.38038648\n",
      " 0.3802831  0.38261488 0.38092894 0.38134571 0.38074161 0.38011679\n",
      " 0.38007262 0.38114079 0.37986551 0.38163463 0.38392494 0.37976548\n",
      " 0.38220545 0.38610642 0.40484366 0.43159411 0.38922113 0.50135491\n",
      " 0.55360462 0.55536181 0.46867526 0.4118753  0.4033     0.46967125\n",
      " 0.48525817 0.52624699 0.46832305 0.55347333 0.37943406 0.37957837\n",
      " 0.37938495 0.37908098 0.37916972 0.37912316 0.37910849 0.37927174\n",
      " 0.37927051 0.37945419 0.37975524 0.37943034 0.37938914 0.37935176\n",
      " 0.37934863 0.37945612 0.37948602 0.37960526 0.37952074 0.37934323\n",
      " 0.38055784 0.37870987 0.37919639 0.37933852 0.37927282 0.37927234\n",
      " 0.37938287 0.37929416 0.37927215 0.37924897 0.37920178 0.37915819\n",
      " 0.37938166 0.37927623 0.37930326 0.37934138 0.37947474 0.37930696\n",
      " 0.37934182 0.3794535  0.37952712 0.37961969 0.37948985 0.37945205\n",
      " 0.37934253 0.37952694 0.3794999  0.37959264 0.37942946 0.37965829\n",
      " 0.379697   0.37964501 0.3793547  0.37950745 0.37940058 0.37941001\n",
      " 0.37947832 0.37947257 0.37935493 0.37939449 0.3794191  0.37938171\n",
      " 0.37936606 0.37952245 0.37948969 0.3794971  0.37961821 0.3796959\n",
      " 0.37980131 0.37996652 0.38018497 0.38031672 0.38060168 0.38037065\n",
      " 0.3806842  0.38055151 0.3807969  0.38091244 0.38079506 0.3814148\n",
      " 0.38147634 0.38145977 0.38240918 0.38367233 0.38358872 0.38367433\n",
      " 0.38374378 0.38378629 0.38040837 0.38230734 0.38325099 0.53024387\n",
      " 0.53328881 0.66952992 0.48531141 0.50351019 0.54996639 0.35031582\n",
      " 0.58353297 0.61351856 0.64787225 0.37883219 0.37942149 0.37921238\n",
      " 0.37965461 0.37937283 0.37966372 0.37971827 0.37964478 0.37952211\n",
      " 0.37949711 0.37951929 0.37942926 0.37960056 0.37949582 0.37962765\n",
      " 0.37959357 0.37997652 0.37957245 0.37980431 0.37961288 0.37979906\n",
      " 0.37990025 0.3799559  0.38048952 0.3802253  0.38035433 0.3801127\n",
      " 0.3800373  0.38020766 0.38021216 0.38028966 0.38007434 0.38024301\n",
      " 0.38004718 0.37990536 0.38006524 0.38014192 0.37983555 0.37989165\n",
      " 0.37979205 0.37979924 0.37985087 0.37972266 0.3798192  0.37977478\n",
      " 0.37992136 0.37959042 0.38006505 0.37990097 0.38021303 0.37996416\n",
      " 0.38019967 0.38005601 0.38042671 0.38065359 0.38059425 0.3793162\n",
      " 0.37931619 0.37931619 0.37931655 0.37931617 0.37931633 0.37931623\n",
      " 0.37931644 0.37931664 0.3793164  0.37931638 0.37931637 0.37931635\n",
      " 0.37931631 0.37931631 0.37931611 0.37931621 0.37931634 0.37931601\n",
      " 0.37931613 0.37931595 0.3793163  0.37931681 0.37931702 0.3793165\n",
      " 0.37931707 0.37931625 0.37931625 0.37931665 0.37931647 0.37931658\n",
      " 0.37931671 0.37931691 0.3793181  0.3793181  0.37931777 0.37931704\n",
      " 0.37931731 0.37931772 0.37931762 0.37931939 0.37932187 0.37934537\n",
      " 0.3794266  0.37936647 0.37938756 0.37964522 0.38001694 0.38050528\n",
      " 0.38463712 0.38407426 0.38421551 0.38486779 0.38500419 0.38499102\n",
      " 0.38548761 0.38403271 0.38468498 0.38626833 0.379316   0.\n",
      " 0.54890386 0.62750119 0.56696822 0.46164084]\n",
      "Algeria : [1 0]\n",
      "Angola : [0 1]\n",
      "Central African Republic : [0 1]\n",
      "Egypt : [0 1]\n",
      "Ivory Coast : [0 1]\n",
      "Kenya : [0 1]\n",
      "Mauritius : [0 1]\n",
      "Morocco : [0 1]\n",
      "Nigeria : [0 1]\n",
      "South Africa : [0 1]\n",
      "Tunisia : [0 1]\n",
      "Zambia : [0 1]\n"
     ]
    }
   ],
   "source": [
    "cols_to_scale = ['gdp_weighted_default','conv_inflation_cpi']\n",
    "\n",
    "from sklearn.preprocessing import MinMaxScaler\n",
    "scaler = MinMaxScaler()\n",
    "\n",
    "df6[cols_to_scale] = scaler.fit_transform(df6[cols_to_scale])\n",
    "\n",
    "for col in df6:\n",
    "    print (f'{col} : {df6[col].unique()}')\n"
   ]
  },
  {
   "cell_type": "code",
   "execution_count": 161,
   "id": "d6413dce",
   "metadata": {
    "scrolled": true
   },
   "outputs": [
    {
     "data": {
      "text/html": [
       "<div>\n",
       "<style scoped>\n",
       "    .dataframe tbody tr th:only-of-type {\n",
       "        vertical-align: middle;\n",
       "    }\n",
       "\n",
       "    .dataframe tbody tr th {\n",
       "        vertical-align: top;\n",
       "    }\n",
       "\n",
       "    .dataframe thead th {\n",
       "        text-align: right;\n",
       "    }\n",
       "</style>\n",
       "<table border=\"1\" class=\"dataframe\">\n",
       "  <thead>\n",
       "    <tr style=\"text-align: right;\">\n",
       "      <th></th>\n",
       "      <th>systemic_crisis</th>\n",
       "      <th>domestic_debt_in_default</th>\n",
       "      <th>sovereign_external_debt_default</th>\n",
       "      <th>gdp_weighted_default</th>\n",
       "      <th>independence</th>\n",
       "      <th>currency_crises</th>\n",
       "      <th>banking_crisis</th>\n",
       "      <th>conv_inflation_cpi</th>\n",
       "      <th>Algeria</th>\n",
       "      <th>Angola</th>\n",
       "      <th>Central African Republic</th>\n",
       "      <th>Egypt</th>\n",
       "      <th>Ivory Coast</th>\n",
       "      <th>Kenya</th>\n",
       "      <th>Mauritius</th>\n",
       "      <th>Morocco</th>\n",
       "      <th>Nigeria</th>\n",
       "      <th>South Africa</th>\n",
       "      <th>Tunisia</th>\n",
       "      <th>Zambia</th>\n",
       "    </tr>\n",
       "  </thead>\n",
       "  <tbody>\n",
       "    <tr>\n",
       "      <th>0</th>\n",
       "      <td>1</td>\n",
       "      <td>0</td>\n",
       "      <td>0</td>\n",
       "      <td>0.0</td>\n",
       "      <td>0</td>\n",
       "      <td>0</td>\n",
       "      <td>1</td>\n",
       "      <td>0.379341</td>\n",
       "      <td>1</td>\n",
       "      <td>0</td>\n",
       "      <td>0</td>\n",
       "      <td>0</td>\n",
       "      <td>0</td>\n",
       "      <td>0</td>\n",
       "      <td>0</td>\n",
       "      <td>0</td>\n",
       "      <td>0</td>\n",
       "      <td>0</td>\n",
       "      <td>0</td>\n",
       "      <td>0</td>\n",
       "    </tr>\n",
       "    <tr>\n",
       "      <th>1</th>\n",
       "      <td>0</td>\n",
       "      <td>0</td>\n",
       "      <td>0</td>\n",
       "      <td>0.0</td>\n",
       "      <td>0</td>\n",
       "      <td>0</td>\n",
       "      <td>0</td>\n",
       "      <td>0.379420</td>\n",
       "      <td>1</td>\n",
       "      <td>0</td>\n",
       "      <td>0</td>\n",
       "      <td>0</td>\n",
       "      <td>0</td>\n",
       "      <td>0</td>\n",
       "      <td>0</td>\n",
       "      <td>0</td>\n",
       "      <td>0</td>\n",
       "      <td>0</td>\n",
       "      <td>0</td>\n",
       "      <td>0</td>\n",
       "    </tr>\n",
       "    <tr>\n",
       "      <th>2</th>\n",
       "      <td>0</td>\n",
       "      <td>0</td>\n",
       "      <td>0</td>\n",
       "      <td>0.0</td>\n",
       "      <td>0</td>\n",
       "      <td>0</td>\n",
       "      <td>0</td>\n",
       "      <td>0.379289</td>\n",
       "      <td>1</td>\n",
       "      <td>0</td>\n",
       "      <td>0</td>\n",
       "      <td>0</td>\n",
       "      <td>0</td>\n",
       "      <td>0</td>\n",
       "      <td>0</td>\n",
       "      <td>0</td>\n",
       "      <td>0</td>\n",
       "      <td>0</td>\n",
       "      <td>0</td>\n",
       "      <td>0</td>\n",
       "    </tr>\n",
       "    <tr>\n",
       "      <th>3</th>\n",
       "      <td>0</td>\n",
       "      <td>0</td>\n",
       "      <td>0</td>\n",
       "      <td>0.0</td>\n",
       "      <td>0</td>\n",
       "      <td>0</td>\n",
       "      <td>0</td>\n",
       "      <td>0.379397</td>\n",
       "      <td>1</td>\n",
       "      <td>0</td>\n",
       "      <td>0</td>\n",
       "      <td>0</td>\n",
       "      <td>0</td>\n",
       "      <td>0</td>\n",
       "      <td>0</td>\n",
       "      <td>0</td>\n",
       "      <td>0</td>\n",
       "      <td>0</td>\n",
       "      <td>0</td>\n",
       "      <td>0</td>\n",
       "    </tr>\n",
       "    <tr>\n",
       "      <th>4</th>\n",
       "      <td>0</td>\n",
       "      <td>0</td>\n",
       "      <td>0</td>\n",
       "      <td>0.0</td>\n",
       "      <td>0</td>\n",
       "      <td>0</td>\n",
       "      <td>0</td>\n",
       "      <td>0.379288</td>\n",
       "      <td>1</td>\n",
       "      <td>0</td>\n",
       "      <td>0</td>\n",
       "      <td>0</td>\n",
       "      <td>0</td>\n",
       "      <td>0</td>\n",
       "      <td>0</td>\n",
       "      <td>0</td>\n",
       "      <td>0</td>\n",
       "      <td>0</td>\n",
       "      <td>0</td>\n",
       "      <td>0</td>\n",
       "    </tr>\n",
       "  </tbody>\n",
       "</table>\n",
       "</div>"
      ],
      "text/plain": [
       "   systemic_crisis  domestic_debt_in_default  sovereign_external_debt_default  \\\n",
       "0                1                         0                                0   \n",
       "1                0                         0                                0   \n",
       "2                0                         0                                0   \n",
       "3                0                         0                                0   \n",
       "4                0                         0                                0   \n",
       "\n",
       "   gdp_weighted_default  independence  currency_crises  banking_crisis  \\\n",
       "0                   0.0             0                0               1   \n",
       "1                   0.0             0                0               0   \n",
       "2                   0.0             0                0               0   \n",
       "3                   0.0             0                0               0   \n",
       "4                   0.0             0                0               0   \n",
       "\n",
       "   conv_inflation_cpi  Algeria  Angola  Central African Republic  Egypt  \\\n",
       "0            0.379341        1       0                         0      0   \n",
       "1            0.379420        1       0                         0      0   \n",
       "2            0.379289        1       0                         0      0   \n",
       "3            0.379397        1       0                         0      0   \n",
       "4            0.379288        1       0                         0      0   \n",
       "\n",
       "   Ivory Coast  Kenya  Mauritius  Morocco  Nigeria  South Africa  Tunisia  \\\n",
       "0            0      0          0        0        0             0        0   \n",
       "1            0      0          0        0        0             0        0   \n",
       "2            0      0          0        0        0             0        0   \n",
       "3            0      0          0        0        0             0        0   \n",
       "4            0      0          0        0        0             0        0   \n",
       "\n",
       "   Zambia  \n",
       "0       0  \n",
       "1       0  \n",
       "2       0  \n",
       "3       0  \n",
       "4       0  "
      ]
     },
     "execution_count": 161,
     "metadata": {},
     "output_type": "execute_result"
    }
   ],
   "source": [
    "#we now create our X and y variables\n",
    "X = df6.drop('inflation_crises', axis = 'columns')\n",
    "X.head()\n"
   ]
  },
  {
   "cell_type": "code",
   "execution_count": 162,
   "id": "df41c3d1",
   "metadata": {
    "scrolled": true
   },
   "outputs": [
    {
     "data": {
      "text/plain": [
       "0    0\n",
       "1    0\n",
       "Name: inflation_crises, dtype: int64"
      ]
     },
     "execution_count": 162,
     "metadata": {},
     "output_type": "execute_result"
    }
   ],
   "source": [
    "y = df6.inflation_crises\n",
    "y.head(2)\n"
   ]
  },
  {
   "cell_type": "code",
   "execution_count": 211,
   "id": "8fb7e86f",
   "metadata": {},
   "outputs": [
    {
     "data": {
      "text/plain": [
       "727"
      ]
     },
     "execution_count": 211,
     "metadata": {},
     "output_type": "execute_result"
    }
   ],
   "source": [
    "#we can now split our dataset for training and testing\n",
    "from sklearn.model_selection import train_test_split\n",
    "X_train, X_test, y_train, y_test = train_test_split(X,y, test_size = 0.2, random_state=10)\n",
    "len(X_train)"
   ]
  },
  {
   "cell_type": "code",
   "execution_count": 239,
   "id": "50ad2f5a",
   "metadata": {
    "scrolled": false
   },
   "outputs": [
    {
     "name": "stdout",
     "output_type": "stream",
     "text": [
      "Epoch 1/100\n",
      "91/91 [==============================] - 2s 5ms/step - loss: 0.5559 - accuracy: 0.8638\n",
      "Epoch 2/100\n",
      "91/91 [==============================] - 1s 6ms/step - loss: 0.4133 - accuracy: 0.8927\n",
      "Epoch 3/100\n",
      "91/91 [==============================] - 1s 6ms/step - loss: 0.3486 - accuracy: 0.8927\n",
      "Epoch 4/100\n",
      "91/91 [==============================] - 1s 10ms/step - loss: 0.3203 - accuracy: 0.8927 0s - loss: 0.3372 \n",
      "Epoch 5/100\n",
      "91/91 [==============================] - 1s 10ms/step - loss: 0.3020 - accuracy: 0.8927\n",
      "Epoch 6/100\n",
      "91/91 [==============================] - 1s 7ms/step - loss: 0.2883 - accuracy: 0.8955\n",
      "Epoch 7/100\n",
      "91/91 [==============================] - 1s 6ms/step - loss: 0.2777 - accuracy: 0.9037\n",
      "Epoch 8/100\n",
      "91/91 [==============================] - 0s 5ms/step - loss: 0.2700 - accuracy: 0.9065\n",
      "Epoch 9/100\n",
      "91/91 [==============================] - 0s 5ms/step - loss: 0.2638 - accuracy: 0.9078\n",
      "Epoch 10/100\n",
      "91/91 [==============================] - 0s 4ms/step - loss: 0.2596 - accuracy: 0.9078\n",
      "Epoch 11/100\n",
      "91/91 [==============================] - 0s 4ms/step - loss: 0.2557 - accuracy: 0.9092\n",
      "Epoch 12/100\n",
      "91/91 [==============================] - 0s 5ms/step - loss: 0.2526 - accuracy: 0.9161\n",
      "Epoch 13/100\n",
      "91/91 [==============================] - 0s 3ms/step - loss: 0.2500 - accuracy: 0.9188\n",
      "Epoch 14/100\n",
      "91/91 [==============================] - 0s 3ms/step - loss: 0.2476 - accuracy: 0.9202\n",
      "Epoch 15/100\n",
      "91/91 [==============================] - 0s 4ms/step - loss: 0.2462 - accuracy: 0.9202\n",
      "Epoch 16/100\n",
      "91/91 [==============================] - 0s 4ms/step - loss: 0.2443 - accuracy: 0.9188\n",
      "Epoch 17/100\n",
      "91/91 [==============================] - 0s 4ms/step - loss: 0.2426 - accuracy: 0.9202\n",
      "Epoch 18/100\n",
      "91/91 [==============================] - 0s 3ms/step - loss: 0.2412 - accuracy: 0.9202\n",
      "Epoch 19/100\n",
      "91/91 [==============================] - 0s 3ms/step - loss: 0.2391 - accuracy: 0.9202\n",
      "Epoch 20/100\n",
      "91/91 [==============================] - 0s 2ms/step - loss: 0.2381 - accuracy: 0.9216\n",
      "Epoch 21/100\n",
      "91/91 [==============================] - 0s 2ms/step - loss: 0.2365 - accuracy: 0.9202\n",
      "Epoch 22/100\n",
      "91/91 [==============================] - 0s 2ms/step - loss: 0.2350 - accuracy: 0.9188\n",
      "Epoch 23/100\n",
      "91/91 [==============================] - 0s 3ms/step - loss: 0.2335 - accuracy: 0.9202\n",
      "Epoch 24/100\n",
      "91/91 [==============================] - 0s 3ms/step - loss: 0.2322 - accuracy: 0.9202\n",
      "Epoch 25/100\n",
      "91/91 [==============================] - 0s 3ms/step - loss: 0.2308 - accuracy: 0.9216\n",
      "Epoch 26/100\n",
      "91/91 [==============================] - 0s 3ms/step - loss: 0.2296 - accuracy: 0.9188\n",
      "Epoch 27/100\n",
      "91/91 [==============================] - 0s 3ms/step - loss: 0.2284 - accuracy: 0.9216\n",
      "Epoch 28/100\n",
      "91/91 [==============================] - 0s 3ms/step - loss: 0.2271 - accuracy: 0.9202\n",
      "Epoch 29/100\n",
      "91/91 [==============================] - 0s 3ms/step - loss: 0.2260 - accuracy: 0.9230\n",
      "Epoch 30/100\n",
      "91/91 [==============================] - 0s 3ms/step - loss: 0.2246 - accuracy: 0.9202\n",
      "Epoch 31/100\n",
      "91/91 [==============================] - 1s 10ms/step - loss: 0.2234 - accuracy: 0.9216\n",
      "Epoch 32/100\n",
      "91/91 [==============================] - 1s 11ms/step - loss: 0.2228 - accuracy: 0.9216\n",
      "Epoch 33/100\n",
      "91/91 [==============================] - 1s 10ms/step - loss: 0.2216 - accuracy: 0.9216\n",
      "Epoch 34/100\n",
      "91/91 [==============================] - 1s 10ms/step - loss: 0.2202 - accuracy: 0.9230\n",
      "Epoch 35/100\n",
      "91/91 [==============================] - 1s 8ms/step - loss: 0.2191 - accuracy: 0.9202\n",
      "Epoch 36/100\n",
      "91/91 [==============================] - 0s 5ms/step - loss: 0.2188 - accuracy: 0.9216\n",
      "Epoch 37/100\n",
      "91/91 [==============================] - 1s 7ms/step - loss: 0.2177 - accuracy: 0.9230\n",
      "Epoch 38/100\n",
      "91/91 [==============================] - 0s 5ms/step - loss: 0.2170 - accuracy: 0.9243\n",
      "Epoch 39/100\n",
      "91/91 [==============================] - 1s 7ms/step - loss: 0.2156 - accuracy: 0.9230\n",
      "Epoch 40/100\n",
      "91/91 [==============================] - 0s 3ms/step - loss: 0.2145 - accuracy: 0.9243\n",
      "Epoch 41/100\n",
      "91/91 [==============================] - 0s 4ms/step - loss: 0.2139 - accuracy: 0.9230\n",
      "Epoch 42/100\n",
      "91/91 [==============================] - 0s 4ms/step - loss: 0.2131 - accuracy: 0.9243\n",
      "Epoch 43/100\n",
      "91/91 [==============================] - 0s 3ms/step - loss: 0.2123 - accuracy: 0.9243\n",
      "Epoch 44/100\n",
      "91/91 [==============================] - 0s 3ms/step - loss: 0.2113 - accuracy: 0.9216\n",
      "Epoch 45/100\n",
      "91/91 [==============================] - 0s 3ms/step - loss: 0.2111 - accuracy: 0.9243\n",
      "Epoch 46/100\n",
      "91/91 [==============================] - 0s 3ms/step - loss: 0.2100 - accuracy: 0.9243\n",
      "Epoch 47/100\n",
      "91/91 [==============================] - 0s 3ms/step - loss: 0.2092 - accuracy: 0.9243\n",
      "Epoch 48/100\n",
      "91/91 [==============================] - 0s 3ms/step - loss: 0.2089 - accuracy: 0.9257\n",
      "Epoch 49/100\n",
      "91/91 [==============================] - 0s 2ms/step - loss: 0.2076 - accuracy: 0.9243\n",
      "Epoch 50/100\n",
      "91/91 [==============================] - 0s 3ms/step - loss: 0.2074 - accuracy: 0.9230\n",
      "Epoch 51/100\n",
      "91/91 [==============================] - 0s 2ms/step - loss: 0.2067 - accuracy: 0.9243\n",
      "Epoch 52/100\n",
      "91/91 [==============================] - 0s 2ms/step - loss: 0.2059 - accuracy: 0.9243\n",
      "Epoch 53/100\n",
      "91/91 [==============================] - 0s 2ms/step - loss: 0.2064 - accuracy: 0.9230\n",
      "Epoch 54/100\n",
      "91/91 [==============================] - 0s 2ms/step - loss: 0.2049 - accuracy: 0.9243\n",
      "Epoch 55/100\n",
      "91/91 [==============================] - 0s 2ms/step - loss: 0.2047 - accuracy: 0.9257\n",
      "Epoch 56/100\n",
      "91/91 [==============================] - 0s 2ms/step - loss: 0.2034 - accuracy: 0.9230\n",
      "Epoch 57/100\n",
      "91/91 [==============================] - 0s 2ms/step - loss: 0.2032 - accuracy: 0.9285\n",
      "Epoch 58/100\n",
      "91/91 [==============================] - 0s 3ms/step - loss: 0.2027 - accuracy: 0.9257\n",
      "Epoch 59/100\n",
      "91/91 [==============================] - 0s 2ms/step - loss: 0.2020 - accuracy: 0.9257\n",
      "Epoch 60/100\n",
      "91/91 [==============================] - 0s 2ms/step - loss: 0.2019 - accuracy: 0.9312\n",
      "Epoch 61/100\n",
      "91/91 [==============================] - 0s 2ms/step - loss: 0.2009 - accuracy: 0.9271\n",
      "Epoch 62/100\n",
      "91/91 [==============================] - 0s 4ms/step - loss: 0.2000 - accuracy: 0.9243\n",
      "Epoch 63/100\n",
      "91/91 [==============================] - 1s 6ms/step - loss: 0.2005 - accuracy: 0.9285\n",
      "Epoch 64/100\n",
      "91/91 [==============================] - 1s 7ms/step - loss: 0.1999 - accuracy: 0.9312\n",
      "Epoch 65/100\n",
      "91/91 [==============================] - 1s 8ms/step - loss: 0.1989 - accuracy: 0.9298\n",
      "Epoch 66/100\n",
      "91/91 [==============================] - 1s 7ms/step - loss: 0.1988 - accuracy: 0.9298\n",
      "Epoch 67/100\n",
      "91/91 [==============================] - 1s 9ms/step - loss: 0.1978 - accuracy: 0.9326\n",
      "Epoch 68/100\n",
      "91/91 [==============================] - 1s 7ms/step - loss: 0.1975 - accuracy: 0.9312\n",
      "Epoch 69/100\n",
      "91/91 [==============================] - 1s 6ms/step - loss: 0.1974 - accuracy: 0.9326\n",
      "Epoch 70/100\n",
      "91/91 [==============================] - 0s 5ms/step - loss: 0.1969 - accuracy: 0.9312\n",
      "Epoch 71/100\n",
      "91/91 [==============================] - 1s 6ms/step - loss: 0.1961 - accuracy: 0.9298\n",
      "Epoch 72/100\n",
      "91/91 [==============================] - 0s 4ms/step - loss: 0.1959 - accuracy: 0.9285\n",
      "Epoch 73/100\n",
      "91/91 [==============================] - 0s 4ms/step - loss: 0.1953 - accuracy: 0.9285\n",
      "Epoch 74/100\n",
      "91/91 [==============================] - 0s 5ms/step - loss: 0.1954 - accuracy: 0.9285\n",
      "Epoch 75/100\n",
      "91/91 [==============================] - 0s 4ms/step - loss: 0.1953 - accuracy: 0.9285\n",
      "Epoch 76/100\n",
      "91/91 [==============================] - 0s 4ms/step - loss: 0.1942 - accuracy: 0.9354\n",
      "Epoch 77/100\n",
      "91/91 [==============================] - 0s 5ms/step - loss: 0.1943 - accuracy: 0.9312\n",
      "Epoch 78/100\n",
      "91/91 [==============================] - 0s 4ms/step - loss: 0.1941 - accuracy: 0.9271\n",
      "Epoch 79/100\n",
      "91/91 [==============================] - 0s 4ms/step - loss: 0.1938 - accuracy: 0.9271\n",
      "Epoch 80/100\n",
      "91/91 [==============================] - 0s 4ms/step - loss: 0.1931 - accuracy: 0.9298\n",
      "Epoch 81/100\n",
      "91/91 [==============================] - 0s 4ms/step - loss: 0.1932 - accuracy: 0.9298\n",
      "Epoch 82/100\n"
     ]
    },
    {
     "name": "stdout",
     "output_type": "stream",
     "text": [
      "91/91 [==============================] - 0s 3ms/step - loss: 0.1923 - accuracy: 0.9312\n",
      "Epoch 83/100\n",
      "91/91 [==============================] - 0s 3ms/step - loss: 0.1920 - accuracy: 0.9257\n",
      "Epoch 84/100\n",
      "91/91 [==============================] - 0s 4ms/step - loss: 0.1920 - accuracy: 0.9298\n",
      "Epoch 85/100\n",
      "91/91 [==============================] - 0s 3ms/step - loss: 0.1911 - accuracy: 0.9298\n",
      "Epoch 86/100\n",
      "91/91 [==============================] - 0s 3ms/step - loss: 0.1914 - accuracy: 0.9298\n",
      "Epoch 87/100\n",
      "91/91 [==============================] - 0s 3ms/step - loss: 0.1910 - accuracy: 0.9271\n",
      "Epoch 88/100\n",
      "91/91 [==============================] - 0s 3ms/step - loss: 0.1911 - accuracy: 0.9312\n",
      "Epoch 89/100\n",
      "91/91 [==============================] - 0s 2ms/step - loss: 0.1906 - accuracy: 0.9230\n",
      "Epoch 90/100\n",
      "91/91 [==============================] - 0s 2ms/step - loss: 0.1899 - accuracy: 0.9312\n",
      "Epoch 91/100\n",
      "91/91 [==============================] - 0s 2ms/step - loss: 0.1900 - accuracy: 0.9271\n",
      "Epoch 92/100\n",
      "91/91 [==============================] - 0s 3ms/step - loss: 0.1894 - accuracy: 0.9271\n",
      "Epoch 93/100\n",
      "91/91 [==============================] - 0s 2ms/step - loss: 0.1892 - accuracy: 0.9257\n",
      "Epoch 94/100\n",
      "91/91 [==============================] - 0s 2ms/step - loss: 0.1887 - accuracy: 0.9312\n",
      "Epoch 95/100\n",
      "91/91 [==============================] - 0s 2ms/step - loss: 0.1889 - accuracy: 0.9285\n",
      "Epoch 96/100\n",
      "91/91 [==============================] - 0s 2ms/step - loss: 0.1889 - accuracy: 0.9298\n",
      "Epoch 97/100\n",
      "91/91 [==============================] - 0s 2ms/step - loss: 0.1878 - accuracy: 0.9257\n",
      "Epoch 98/100\n",
      "91/91 [==============================] - 0s 2ms/step - loss: 0.1879 - accuracy: 0.9271\n",
      "Epoch 99/100\n",
      "91/91 [==============================] - 0s 2ms/step - loss: 0.1882 - accuracy: 0.9271\n",
      "Epoch 100/100\n",
      "91/91 [==============================] - 0s 2ms/step - loss: 0.1880 - accuracy: 0.9257\n"
     ]
    },
    {
     "data": {
      "text/plain": [
       "<keras.callbacks.History at 0x1beb23d2c70>"
      ]
     },
     "execution_count": 239,
     "metadata": {},
     "output_type": "execute_result"
    }
   ],
   "source": [
    "model = keras.Sequential([\n",
    "    keras.layers.Dense(20, input_shape = (20,), activation='relu'),\n",
    "    keras.layers.Dense(1, activation='sigmoid')\n",
    "])\n",
    "\n",
    "model.compile(loss='binary_crossentropy', optimizer='adam', metrics=['accuracy'])\n",
    "\n",
    "model.fit(X_train, y_train, epochs=100, batch_size=8)\n"
   ]
  },
  {
   "cell_type": "code",
   "execution_count": 215,
   "id": "acddbd4b",
   "metadata": {},
   "outputs": [
    {
     "data": {
      "text/plain": [
       "529    0\n",
       "92     0\n",
       "593    1\n",
       "781    0\n",
       "396    0\n",
       "177    0\n",
       "415    0\n",
       "193    0\n",
       "810    1\n",
       "714    0\n",
       "Name: inflation_crises, dtype: int64"
      ]
     },
     "execution_count": 215,
     "metadata": {},
     "output_type": "execute_result"
    }
   ],
   "source": [
    "yp =  model.predict(X_test)\n",
    "y_pred = []\n",
    "for element in yp:\n",
    "    if element > 0.5:\n",
    "        y_pred.append(1)\n",
    "    else:\n",
    "        y_pred.append(0)\n",
    "\n",
    "y_test[:10]"
   ]
  },
  {
   "cell_type": "code",
   "execution_count": 216,
   "id": "a0dfbbd3",
   "metadata": {},
   "outputs": [
    {
     "data": {
      "text/plain": [
       "[0, 0, 0, 0, 0, 0, 0, 0, 1, 0]"
      ]
     },
     "execution_count": 216,
     "metadata": {},
     "output_type": "execute_result"
    }
   ],
   "source": [
    "y_pred[:10]"
   ]
  },
  {
   "cell_type": "code",
   "execution_count": 167,
   "id": "5edcba77",
   "metadata": {
    "scrolled": false
   },
   "outputs": [
    {
     "name": "stdout",
     "output_type": "stream",
     "text": [
      "              precision    recall  f1-score   support\n",
      "\n",
      "           0       0.95      0.99      0.97       166\n",
      "           1       0.78      0.44      0.56        16\n",
      "\n",
      "    accuracy                           0.94       182\n",
      "   macro avg       0.86      0.71      0.76       182\n",
      "weighted avg       0.93      0.94      0.93       182\n",
      "\n"
     ]
    },
    {
     "data": {
      "text/plain": [
       "Text(69.0, 0.5, 'Truth')"
      ]
     },
     "execution_count": 167,
     "metadata": {},
     "output_type": "execute_result"
    },
    {
     "data": {
      "image/png": "[encoded data removed]",
      "text/plain": [
       "<Figure size 720x504 with 2 Axes>"
      ]
     },
     "metadata": {
      "needs_background": "light"
     },
     "output_type": "display_data"
    }
   ],
   "source": [
    "from sklearn.metrics import confusion_matrix, classification_report\n",
    "print(classification_report(y_test, y_pred))\n",
    "#We can also plot our confusion matrix.\n",
    "import seaborn as sn\n",
    "cm = tf.math.confusion_matrix(labels=y_test, predictions = y_pred)\n",
    "plt.figure(figsize=(10,7))\n",
    "sn.heatmap(cm, annot=True, fmt ='d')\n",
    "plt.xlabel('Predicted')\n",
    "plt.ylabel('Truth')\n"
   ]
  },
  {
   "cell_type": "code",
   "execution_count": 170,
   "id": "d12bb8b9",
   "metadata": {},
   "outputs": [
    {
     "data": {
      "text/html": [
       "<div>\n",
       "<style scoped>\n",
       "    .dataframe tbody tr th:only-of-type {\n",
       "        vertical-align: middle;\n",
       "    }\n",
       "\n",
       "    .dataframe tbody tr th {\n",
       "        vertical-align: top;\n",
       "    }\n",
       "\n",
       "    .dataframe thead th {\n",
       "        text-align: right;\n",
       "    }\n",
       "</style>\n",
       "<table border=\"1\" class=\"dataframe\">\n",
       "  <thead>\n",
       "    <tr style=\"text-align: right;\">\n",
       "      <th></th>\n",
       "      <th>systemic_crisis</th>\n",
       "      <th>domestic_debt_in_default</th>\n",
       "      <th>sovereign_external_debt_default</th>\n",
       "      <th>gdp_weighted_default</th>\n",
       "      <th>independence</th>\n",
       "      <th>currency_crises</th>\n",
       "      <th>inflation_crises</th>\n",
       "      <th>banking_crisis</th>\n",
       "      <th>conv_inflation_cpi</th>\n",
       "      <th>Algeria</th>\n",
       "      <th>...</th>\n",
       "      <th>Central African Republic</th>\n",
       "      <th>Egypt</th>\n",
       "      <th>Ivory Coast</th>\n",
       "      <th>Kenya</th>\n",
       "      <th>Mauritius</th>\n",
       "      <th>Morocco</th>\n",
       "      <th>Nigeria</th>\n",
       "      <th>South Africa</th>\n",
       "      <th>Tunisia</th>\n",
       "      <th>Zambia</th>\n",
       "    </tr>\n",
       "  </thead>\n",
       "  <tbody>\n",
       "    <tr>\n",
       "      <th>0</th>\n",
       "      <td>1</td>\n",
       "      <td>0</td>\n",
       "      <td>0</td>\n",
       "      <td>0.0</td>\n",
       "      <td>0</td>\n",
       "      <td>0</td>\n",
       "      <td>0</td>\n",
       "      <td>1</td>\n",
       "      <td>0.379341</td>\n",
       "      <td>1</td>\n",
       "      <td>...</td>\n",
       "      <td>0</td>\n",
       "      <td>0</td>\n",
       "      <td>0</td>\n",
       "      <td>0</td>\n",
       "      <td>0</td>\n",
       "      <td>0</td>\n",
       "      <td>0</td>\n",
       "      <td>0</td>\n",
       "      <td>0</td>\n",
       "      <td>0</td>\n",
       "    </tr>\n",
       "    <tr>\n",
       "      <th>1</th>\n",
       "      <td>0</td>\n",
       "      <td>0</td>\n",
       "      <td>0</td>\n",
       "      <td>0.0</td>\n",
       "      <td>0</td>\n",
       "      <td>0</td>\n",
       "      <td>0</td>\n",
       "      <td>0</td>\n",
       "      <td>0.379420</td>\n",
       "      <td>1</td>\n",
       "      <td>...</td>\n",
       "      <td>0</td>\n",
       "      <td>0</td>\n",
       "      <td>0</td>\n",
       "      <td>0</td>\n",
       "      <td>0</td>\n",
       "      <td>0</td>\n",
       "      <td>0</td>\n",
       "      <td>0</td>\n",
       "      <td>0</td>\n",
       "      <td>0</td>\n",
       "    </tr>\n",
       "  </tbody>\n",
       "</table>\n",
       "<p>2 rows × 21 columns</p>\n",
       "</div>"
      ],
      "text/plain": [
       "   systemic_crisis  domestic_debt_in_default  sovereign_external_debt_default  \\\n",
       "0                1                         0                                0   \n",
       "1                0                         0                                0   \n",
       "\n",
       "   gdp_weighted_default  independence  currency_crises  inflation_crises  \\\n",
       "0                   0.0             0                0                 0   \n",
       "1                   0.0             0                0                 0   \n",
       "\n",
       "   banking_crisis  conv_inflation_cpi  Algeria  ...  Central African Republic  \\\n",
       "0               1            0.379341        1  ...                         0   \n",
       "1               0            0.379420        1  ...                         0   \n",
       "\n",
       "   Egypt  Ivory Coast  Kenya  Mauritius  Morocco  Nigeria  South Africa  \\\n",
       "0      0            0      0          0        0        0             0   \n",
       "1      0            0      0          0        0        0             0   \n",
       "\n",
       "   Tunisia  Zambia  \n",
       "0        0       0  \n",
       "1        0       0  \n",
       "\n",
       "[2 rows x 21 columns]"
      ]
     },
     "execution_count": 170,
     "metadata": {},
     "output_type": "execute_result"
    }
   ],
   "source": [
    "df6.head(2)"
   ]
  },
  {
   "cell_type": "code",
   "execution_count": 171,
   "id": "bf16b3c8",
   "metadata": {},
   "outputs": [
    {
     "data": {
      "text/plain": [
       "0.26654706679361184"
      ]
     },
     "execution_count": 171,
     "metadata": {},
     "output_type": "execute_result"
    }
   ],
   "source": [
    "from sklearn.linear_model import LinearRegression\n",
    "lr_clf = LinearRegression()\n",
    "lr_clf.fit(X_train,y_train)\n",
    "lr_clf.score(X_test,y_test)"
   ]
  },
  {
   "cell_type": "code",
   "execution_count": 172,
   "id": "951adb94",
   "metadata": {},
   "outputs": [
    {
     "data": {
      "text/plain": [
       "array([0.13333862, 0.09364383, 0.05548995, 0.25458735, 0.19471281])"
      ]
     },
     "execution_count": 172,
     "metadata": {},
     "output_type": "execute_result"
    }
   ],
   "source": [
    "from sklearn.model_selection import ShuffleSplit\n",
    "from sklearn.model_selection import cross_val_score\n",
    "\n",
    "cv = ShuffleSplit(n_splits=5, test_size = 0.2, random_state =0)\n",
    "\n",
    "cross_val_score(LinearRegression(),X,y, cv=cv)"
   ]
  },
  {
   "cell_type": "code",
   "execution_count": 240,
   "id": "edccc323",
   "metadata": {},
   "outputs": [],
   "source": [
    "def predict_inflation(country,systemic_crisis,domestic_debt_in_default,sovereign_external_debt_default,gdp_weighted_default,independence,currency_crises,banking_crisis,conv_inflation_cpi):\n",
    "    coun_index = np.where(X.columns==country)[0][0]\n",
    "    \n",
    "    x=np.zeros(len(X.columns))\n",
    "    x[0] = systemic_crisis\n",
    "    x[1] = domestic_debt_in_default\n",
    "    x[2] = sovereign_external_debt_default\n",
    "    x[3] = gdp_weighted_default\n",
    "    x[4] = independence\n",
    "    x[5] = currency_crises\n",
    "    x[6] = banking_crisis\n",
    "    x[7] = conv_inflation_cpi\n",
    "    if coun_index >=0:\n",
    "        x[coun_index] = 1\n",
    "        \n",
    "    return model.predict([x])[0]"
   ]
  },
  {
   "cell_type": "code",
   "execution_count": 233,
   "id": "4ea4af6a",
   "metadata": {},
   "outputs": [
    {
     "name": "stdout",
     "output_type": "stream",
     "text": [
      "WARNING:tensorflow:Model was constructed with shape (None, 20) for input KerasTensor(type_spec=TensorSpec(shape=(None, 20), dtype=tf.float32, name='dense_89_input'), name='dense_89_input', description=\"created by layer 'dense_89_input'\"), but it was called on an input with incompatible shape (None,).\n"
     ]
    },
    {
     "ename": "ValueError",
     "evalue": "in user code:\n\n    File \"C:\\Users\\Dickson\\anaconda31\\lib\\site-packages\\keras\\engine\\training.py\", line 1621, in predict_function  *\n        return step_function(self, iterator)\n    File \"C:\\Users\\Dickson\\anaconda31\\lib\\site-packages\\keras\\engine\\training.py\", line 1611, in step_function  **\n        outputs = model.distribute_strategy.run(run_step, args=(data,))\n    File \"C:\\Users\\Dickson\\anaconda31\\lib\\site-packages\\keras\\engine\\training.py\", line 1604, in run_step  **\n        outputs = model.predict_step(data)\n    File \"C:\\Users\\Dickson\\anaconda31\\lib\\site-packages\\keras\\engine\\training.py\", line 1572, in predict_step\n        return self(x, training=False)\n    File \"C:\\Users\\Dickson\\anaconda31\\lib\\site-packages\\keras\\utils\\traceback_utils.py\", line 67, in error_handler\n        raise e.with_traceback(filtered_tb) from None\n    File \"C:\\Users\\Dickson\\anaconda31\\lib\\site-packages\\keras\\engine\\input_spec.py\", line 227, in assert_input_compatibility\n        raise ValueError(f'Input {input_index} of layer \"{layer_name}\" '\n\n    ValueError: Exception encountered when calling layer \"sequential_28\" (type Sequential).\n    \n    Input 0 of layer \"dense_89\" is incompatible with the layer: expected min_ndim=2, found ndim=1. Full shape received: (None,)\n    \n    Call arguments received:\n      • inputs=('tf.Tensor(shape=(None,), dtype=float32)',)\n      • training=False\n      • mask=None\n",
     "output_type": "error",
     "traceback": [
      "\u001b[1;31m---------------------------------------------------------------------------\u001b[0m",
      "\u001b[1;31mValueError\u001b[0m                                Traceback (most recent call last)",
      "\u001b[1;32m~\\AppData\\Local\\Temp/ipykernel_10112/3890092755.py\u001b[0m in \u001b[0;36m<module>\u001b[1;34m\u001b[0m\n\u001b[1;32m----> 1\u001b[1;33m \u001b[0mpredictions\u001b[0m \u001b[1;33m=\u001b[0m \u001b[0mnp\u001b[0m\u001b[1;33m.\u001b[0m\u001b[0mround\u001b[0m\u001b[1;33m(\u001b[0m\u001b[0mpredict_inflation\u001b[0m\u001b[1;33m(\u001b[0m\u001b[1;34m'Kenya'\u001b[0m\u001b[1;33m,\u001b[0m\u001b[1;36m0\u001b[0m\u001b[1;33m,\u001b[0m\u001b[1;36m0\u001b[0m\u001b[1;33m,\u001b[0m\u001b[1;36m0\u001b[0m\u001b[1;33m,\u001b[0m\u001b[1;36m0.5\u001b[0m\u001b[1;33m,\u001b[0m\u001b[1;36m0\u001b[0m\u001b[1;33m,\u001b[0m\u001b[1;36m0\u001b[0m\u001b[1;33m,\u001b[0m\u001b[1;36m0\u001b[0m\u001b[1;33m,\u001b[0m\u001b[1;36m72\u001b[0m\u001b[1;33m)\u001b[0m\u001b[1;33m)\u001b[0m\u001b[1;33m\u001b[0m\u001b[1;33m\u001b[0m\u001b[0m\n\u001b[0m\u001b[0;32m      2\u001b[0m \u001b[0mpredictions\u001b[0m\u001b[1;33m\u001b[0m\u001b[1;33m\u001b[0m\u001b[0m\n",
      "\u001b[1;32m~\\AppData\\Local\\Temp/ipykernel_10112/1043489944.py\u001b[0m in \u001b[0;36mpredict_inflation\u001b[1;34m(country, systemic_crisis, domestic_debt_in_default, sovereign_external_debt_default, gdp_weighted_default, independence, currency_crises, banking_crisis, conv_inflation_cpi)\u001b[0m\n\u001b[0;32m     14\u001b[0m         \u001b[0mx\u001b[0m\u001b[1;33m[\u001b[0m\u001b[0mcoun_index\u001b[0m\u001b[1;33m]\u001b[0m \u001b[1;33m=\u001b[0m \u001b[1;36m1\u001b[0m\u001b[1;33m\u001b[0m\u001b[1;33m\u001b[0m\u001b[0m\n\u001b[0;32m     15\u001b[0m \u001b[1;33m\u001b[0m\u001b[0m\n\u001b[1;32m---> 16\u001b[1;33m     \u001b[1;32mreturn\u001b[0m \u001b[0mmodel\u001b[0m\u001b[1;33m.\u001b[0m\u001b[0mpredict\u001b[0m\u001b[1;33m(\u001b[0m\u001b[1;33m[\u001b[0m\u001b[0mx\u001b[0m\u001b[1;33m]\u001b[0m\u001b[1;33m)\u001b[0m\u001b[1;33m[\u001b[0m\u001b[1;36m0\u001b[0m\u001b[1;33m]\u001b[0m\u001b[1;33m\u001b[0m\u001b[1;33m\u001b[0m\u001b[0m\n\u001b[0m",
      "\u001b[1;32m~\\anaconda31\\lib\\site-packages\\keras\\utils\\traceback_utils.py\u001b[0m in \u001b[0;36merror_handler\u001b[1;34m(*args, **kwargs)\u001b[0m\n\u001b[0;32m     65\u001b[0m     \u001b[1;32mexcept\u001b[0m \u001b[0mException\u001b[0m \u001b[1;32mas\u001b[0m \u001b[0me\u001b[0m\u001b[1;33m:\u001b[0m  \u001b[1;31m# pylint: disable=broad-except\u001b[0m\u001b[1;33m\u001b[0m\u001b[1;33m\u001b[0m\u001b[0m\n\u001b[0;32m     66\u001b[0m       \u001b[0mfiltered_tb\u001b[0m \u001b[1;33m=\u001b[0m \u001b[0m_process_traceback_frames\u001b[0m\u001b[1;33m(\u001b[0m\u001b[0me\u001b[0m\u001b[1;33m.\u001b[0m\u001b[0m__traceback__\u001b[0m\u001b[1;33m)\u001b[0m\u001b[1;33m\u001b[0m\u001b[1;33m\u001b[0m\u001b[0m\n\u001b[1;32m---> 67\u001b[1;33m       \u001b[1;32mraise\u001b[0m \u001b[0me\u001b[0m\u001b[1;33m.\u001b[0m\u001b[0mwith_traceback\u001b[0m\u001b[1;33m(\u001b[0m\u001b[0mfiltered_tb\u001b[0m\u001b[1;33m)\u001b[0m \u001b[1;32mfrom\u001b[0m \u001b[1;32mNone\u001b[0m\u001b[1;33m\u001b[0m\u001b[1;33m\u001b[0m\u001b[0m\n\u001b[0m\u001b[0;32m     68\u001b[0m     \u001b[1;32mfinally\u001b[0m\u001b[1;33m:\u001b[0m\u001b[1;33m\u001b[0m\u001b[1;33m\u001b[0m\u001b[0m\n\u001b[0;32m     69\u001b[0m       \u001b[1;32mdel\u001b[0m \u001b[0mfiltered_tb\u001b[0m\u001b[1;33m\u001b[0m\u001b[1;33m\u001b[0m\u001b[0m\n",
      "\u001b[1;32m~\\anaconda31\\lib\\site-packages\\tensorflow\\python\\framework\\func_graph.py\u001b[0m in \u001b[0;36mautograph_handler\u001b[1;34m(*args, **kwargs)\u001b[0m\n\u001b[0;32m   1127\u001b[0m           \u001b[1;32mexcept\u001b[0m \u001b[0mException\u001b[0m \u001b[1;32mas\u001b[0m \u001b[0me\u001b[0m\u001b[1;33m:\u001b[0m  \u001b[1;31m# pylint:disable=broad-except\u001b[0m\u001b[1;33m\u001b[0m\u001b[1;33m\u001b[0m\u001b[0m\n\u001b[0;32m   1128\u001b[0m             \u001b[1;32mif\u001b[0m \u001b[0mhasattr\u001b[0m\u001b[1;33m(\u001b[0m\u001b[0me\u001b[0m\u001b[1;33m,\u001b[0m \u001b[1;34m\"ag_error_metadata\"\u001b[0m\u001b[1;33m)\u001b[0m\u001b[1;33m:\u001b[0m\u001b[1;33m\u001b[0m\u001b[1;33m\u001b[0m\u001b[0m\n\u001b[1;32m-> 1129\u001b[1;33m               \u001b[1;32mraise\u001b[0m \u001b[0me\u001b[0m\u001b[1;33m.\u001b[0m\u001b[0mag_error_metadata\u001b[0m\u001b[1;33m.\u001b[0m\u001b[0mto_exception\u001b[0m\u001b[1;33m(\u001b[0m\u001b[0me\u001b[0m\u001b[1;33m)\u001b[0m\u001b[1;33m\u001b[0m\u001b[1;33m\u001b[0m\u001b[0m\n\u001b[0m\u001b[0;32m   1130\u001b[0m             \u001b[1;32melse\u001b[0m\u001b[1;33m:\u001b[0m\u001b[1;33m\u001b[0m\u001b[1;33m\u001b[0m\u001b[0m\n\u001b[0;32m   1131\u001b[0m               \u001b[1;32mraise\u001b[0m\u001b[1;33m\u001b[0m\u001b[1;33m\u001b[0m\u001b[0m\n",
      "\u001b[1;31mValueError\u001b[0m: in user code:\n\n    File \"C:\\Users\\Dickson\\anaconda31\\lib\\site-packages\\keras\\engine\\training.py\", line 1621, in predict_function  *\n        return step_function(self, iterator)\n    File \"C:\\Users\\Dickson\\anaconda31\\lib\\site-packages\\keras\\engine\\training.py\", line 1611, in step_function  **\n        outputs = model.distribute_strategy.run(run_step, args=(data,))\n    File \"C:\\Users\\Dickson\\anaconda31\\lib\\site-packages\\keras\\engine\\training.py\", line 1604, in run_step  **\n        outputs = model.predict_step(data)\n    File \"C:\\Users\\Dickson\\anaconda31\\lib\\site-packages\\keras\\engine\\training.py\", line 1572, in predict_step\n        return self(x, training=False)\n    File \"C:\\Users\\Dickson\\anaconda31\\lib\\site-packages\\keras\\utils\\traceback_utils.py\", line 67, in error_handler\n        raise e.with_traceback(filtered_tb) from None\n    File \"C:\\Users\\Dickson\\anaconda31\\lib\\site-packages\\keras\\engine\\input_spec.py\", line 227, in assert_input_compatibility\n        raise ValueError(f'Input {input_index} of layer \"{layer_name}\" '\n\n    ValueError: Exception encountered when calling layer \"sequential_28\" (type Sequential).\n    \n    Input 0 of layer \"dense_89\" is incompatible with the layer: expected min_ndim=2, found ndim=1. Full shape received: (None,)\n    \n    Call arguments received:\n      • inputs=('tf.Tensor(shape=(None,), dtype=float32)',)\n      • training=False\n      • mask=None\n"
     ]
    }
   ],
   "source": [
    "predictions = np.round(predict_inflation('Kenya',0,0,0,0.5,0,0,0,72))\n",
    "predictions"
   ]
  },
  {
   "cell_type": "code",
   "execution_count": 202,
   "id": "afedd717",
   "metadata": {},
   "outputs": [
    {
     "data": {
      "text/plain": [
       "1.0"
      ]
     },
     "execution_count": 202,
     "metadata": {},
     "output_type": "execute_result"
    }
   ],
   "source": [
    "predictions = np.round(predict_price('Egypt',0,0,1,0.4,1,0,1,52))\n",
    "predictions"
   ]
  },
  {
   "cell_type": "code",
   "execution_count": 201,
   "id": "d7166f6b",
   "metadata": {},
   "outputs": [
    {
     "data": {
      "text/plain": [
       "0.7318199337766631"
      ]
     },
     "execution_count": 201,
     "metadata": {},
     "output_type": "execute_result"
    }
   ],
   "source": [
    "predict_price('Egypt',0,0,1,0.4,1,0,1,52)"
   ]
  }
 ],
 "metadata": {
  "kernelspec": {
   "display_name": "Python 3 (ipykernel)",
   "language": "python",
   "name": "python3"
  },
  "language_info": {
   "codemirror_mode": {
    "name": "ipython",
    "version": 3
   },
   "file_extension": ".py",
   "mimetype": "text/x-python",
   "name": "python",
   "nbconvert_exporter": "python",
   "pygments_lexer": "ipython3",
   "version": "3.9.7"
  }
 },
 "nbformat": 4,
 "nbformat_minor": 5
}
